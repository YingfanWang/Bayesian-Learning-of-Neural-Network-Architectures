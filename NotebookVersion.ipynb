{
  "nbformat": 4,
  "nbformat_minor": 0,
  "metadata": {
    "colab": {
      "name": "VolkswagenFinal.ipynb",
      "version": "0.3.2",
      "provenance": [],
      "collapsed_sections": [],
      "include_colab_link": true
    },
    "kernelspec": {
      "name": "python3",
      "display_name": "Python 3"
    }
  },
  "cells": [
    {
      "cell_type": "markdown",
      "metadata": {
        "id": "view-in-github",
        "colab_type": "text"
      },
      "source": [
        "<a href=\"https://colab.research.google.com/github/antonFJohansson/Bayesian-Learning-of-Neural-Network-Architectures/blob/master/NotebookVersion.ipynb\" target=\"_parent\"><img src=\"https://colab.research.google.com/assets/colab-badge.svg\" alt=\"Open In Colab\"/></a>"
      ]
    },
    {
      "metadata": {
        "id": "baHWeE1C3Wh2",
        "colab_type": "code",
        "colab": {}
      },
      "cell_type": "code",
      "source": [
        ""
      ],
      "execution_count": 0,
      "outputs": []
    },
    {
      "metadata": {
        "id": "LoNr2w_iUxRE",
        "colab_type": "code",
        "colab": {
          "base_uri": "https://localhost:8080/",
          "height": 187
        },
        "outputId": "5a1336b2-6158-425b-9727-d74d56e2c7d0"
      },
      "cell_type": "code",
      "source": [
        "# -*- coding: utf-8 -*-\n",
        "\"\"\"\n",
        "Created on Mon Apr 15 07:14:32 2019\n",
        "\n",
        "@author: johaant\n",
        "\"\"\"\n",
        "import torch\n",
        "import torch.nn as nn\n",
        "import math\n",
        "\n",
        "import numpy as np\n",
        "from torch.distributions.normal import Normal\n",
        "from numpy.random import logistic\n",
        "import torch.nn.functional as F\n",
        "from numpy import triu, ones\n",
        "\n",
        "## For numerical stability\n",
        "EPS_FACTOR = 1e-10\n",
        "\n",
        "\n",
        "#torch.manual_seed(0)\n",
        "#np.random.seed(0)\n",
        "\n",
        "class BayesLinear(nn.Module):\n",
        "  \n",
        "  \n",
        "  def __init__(self, h1, h2, bypass = True):\n",
        "    super().__init__()\n",
        "    self.bypass = bypass\n",
        "    self.input_size = h1\n",
        "    self.output_size = h2\n",
        "    self.total_dim = h1*h2 ## If we see it as independent Gaussians then this is the full dimension of that distribution\n",
        "    \n",
        "    ## The init for the weight and bias parameters w.r.t the Normal dist\n",
        "    mu_init_var = math.sqrt(2) * math.sqrt(2 / (h1 + h2))\n",
        "    self.weight_mu = nn.Parameter(torch.Tensor(h1, h2).normal_(0, mu_init_var)) \n",
        "    self.weight_rho = nn.Parameter(torch.Tensor(h1, h2).uniform_(-5,-4))\n",
        "    self.bias_mu = nn.Parameter(torch.Tensor(h2).normal_(0, 0.001))\n",
        "    self.bias_rho = nn.Parameter(torch.Tensor(h2).uniform_(-5, -4))\n",
        "    \n",
        "    ## The init for the layer mean and variance \n",
        "    layer_mean = h2/2 if h2 != 1 else 1\n",
        "    self.layer_mu = nn.Parameter(torch.Tensor(1).normal_(layer_mean, 10)) ## This one can be changed for different init for the layer mean. I had 0.5 as the variance\n",
        "    self.layer_rho = nn.Parameter(torch.Tensor(1).uniform_(1, 10)) \n",
        "    \n",
        "    ## The init if the layer has a bypass parameter\n",
        "    if bypass:\n",
        "      self.bypass_a = nn.Parameter(torch.Tensor(1).normal_(0,1))\n",
        "      \n",
        "     \n",
        "    ## Some prior parameters under here\n",
        "    self.tau = torch.tensor(1.) ## The temperature\n",
        "    self.prior_weight_mu = torch.tensor(0.)\n",
        "    self.prior_weight_sigma = torch.tensor(2.)\n",
        "    \n",
        "    self.prior_layer_mu = torch.tensor(h2/2) ## This one can be changed for different prior beliefs on the size of the network\n",
        "    \n",
        "    prior_var = (h2-1)/2 if h2 != 1 else 1.0\n",
        "    self.prior_layer_sigma = torch.tensor(prior_var) \n",
        "    self.prior_layer_pi = self.layer_pi(self.prior_layer_mu, self.prior_layer_sigma)\n",
        "    self.prior_bypass_pi = torch.tensor(0.5)\n",
        "    \n",
        "    ## The upper triangular matrix\n",
        "    self.U = torch.from_numpy(triu(ones((h2, h2)))).float()\n",
        "  \n",
        "  def truncated_normal(self, x, mu, sigma):\n",
        "    \n",
        "    mu_n = mu.clone().detach() \n",
        "    sigma_n = sigma.clone().detach() \n",
        "    norm = Normal(mu_n, sigma_n)\n",
        "    left_val = norm.cdf(1)\n",
        "    right_val = norm.cdf(self.output_size)\n",
        "    \n",
        "    def log_normal(x, mu, sigma):\n",
        "      return -1 / 2 * torch.log(2*math.pi*sigma**2 + EPS_FACTOR) - 1/ (2 * sigma**2 + EPS_FACTOR) * (x-mu)**2\n",
        "    \n",
        "    p1 = log_normal(x, mu, sigma)\n",
        "    p2 = torch.log(right_val - left_val) if right_val != left_val else torch.tensor(0.)\n",
        "    \n",
        "    return torch.exp(p1-p2)\n",
        "  \n",
        "  ## The parameter pi for the layer bypass gumbal later. bypass_a should be inserted here\n",
        "  def bypass_pi(self, x):\n",
        "    return 1 / (1 + torch.exp(-x))\n",
        "  \n",
        "  ## Converts rho to sigma parameter\n",
        "  def sigma(self, x):\n",
        "    return torch.log1p(torch.exp(x))\n",
        "  \n",
        "  ## This one gives me the probability for the layer vector, later I also have to sample from Gumbal using this as pi\n",
        "  def layer_pi(self, mu, sigma):\n",
        "    input_x = torch.arange(1,self.output_size + 1).float()\n",
        "    p1 = self.truncated_normal(input_x, mu, sigma)\n",
        "    p2 = torch.sum(p1)\n",
        "    return p1 / p2 \n",
        "    \n",
        "  ## s_p here is the sampled simplex vector\n",
        "  def calc_layer_VI(self, s_p, post_lay_pi):\n",
        "    ## Calc the prior term here first\n",
        "    p1 = torch.log(torch.arange(1,self.output_size).float() + EPS_FACTOR).sum()\n",
        "    p2 = (self.output_size - 1)*torch.log(self.tau)\n",
        "    \n",
        "    p3 = (torch.log(self.prior_layer_pi + EPS_FACTOR) - (self.tau + 1)*torch.log(s_p + EPS_FACTOR)).sum()\n",
        "    p4 = self.output_size * torch.log((self.prior_layer_pi * torch.pow(s_p + EPS_FACTOR, -self.tau)).sum())\n",
        "    log_prior = p1 + p2 + p3 - p4    \n",
        "    \n",
        "    ## And now calculate the variational posterior term. But I guess in the exact same way just with different parameters?\n",
        "    p1 = torch.log(torch.arange(1,self.output_size).float() + EPS_FACTOR).sum()\n",
        "    p2 = (self.output_size - 1)*torch.log(self.tau)\n",
        "    p3 = (torch.log(post_lay_pi + EPS_FACTOR) - (self.tau + 1)*torch.log(s_p + EPS_FACTOR)).sum()\n",
        "    p4 = self.output_size * torch.log((post_lay_pi * torch.pow(s_p + EPS_FACTOR, -self.tau)).sum() + EPS_FACTOR)\n",
        "    log_post = p1 + p2 + p3 - p4\n",
        "    return log_post - log_prior\n",
        "  \n",
        "  def calc_bypass_VI(self, s_p, post_bypass_pi):\n",
        "    \n",
        "    ## I am a little bit unsure if they have written it correctly in the article, should not 1-pi enter somewhere?\n",
        "    ## First calculate the prior term\n",
        "    p1 = torch.log(self.tau)\n",
        "    p2 = torch.log(self.prior_bypass_pi + EPS_FACTOR) - (self.tau + 1) *(torch.log(s_p + EPS_FACTOR) + torch.log(1-s_p +EPS_FACTOR))\n",
        "    p3 = 2*torch.log(self.prior_bypass_pi*torch.pow(s_p + EPS_FACTOR,-self.tau) + torch.pow((1-s_p + EPS_FACTOR),-self.tau) +EPS_FACTOR)\n",
        "    log_prior = p1 + p2 - p3\n",
        "    \n",
        "    ## And now the variational posterior terms here\n",
        "    p1 = torch.log(self.tau)\n",
        "    p2 = torch.log(post_bypass_pi + EPS_FACTOR) - (self.tau + 1) *(torch.log(s_p + EPS_FACTOR) + torch.log(1-s_p + EPS_FACTOR))\n",
        "    p3 = 2*torch.log(post_bypass_pi*torch.pow(s_p + EPS_FACTOR,-self.tau) + torch.pow((1-s_p),-self.tau) + EPS_FACTOR)\n",
        "    log_post = p1 + p2 - p3\n",
        "    return log_post - log_prior\n",
        "  \n",
        "  def calc_normal_KL(self, mu, sigma):\n",
        "    \n",
        "    p1 = 2*self.total_dim*torch.log(self.prior_weight_sigma + EPS_FACTOR)\n",
        "    p2 = 2*torch.log(sigma + EPS_FACTOR).sum()\n",
        "    p3 = self.total_dim\n",
        "    p4 = (1 / self.prior_weight_sigma * sigma).sum()\n",
        "    p5 = (1 / self.prior_weight_sigma * mu**2).sum()\n",
        "    KL = 1 / 2 * (p1 - p2 - p3 + p4 + p5)\n",
        "    return KL\n",
        "    \n",
        "  \n",
        "    \n",
        "  ## Should just return a sample of the concete categorical distribution\n",
        "  def concrete_cat_sample(self, layer_pi):\n",
        "    eps = -torch.log(-torch.log(torch.Tensor(self.output_size).uniform_(0,1) + EPS_FACTOR))\n",
        "    \n",
        "    ## Calc the sample here\n",
        "    p1 = (torch.log(layer_pi + EPS_FACTOR) + eps) / self.tau\n",
        "    p2 = torch.exp(p1)\n",
        "    p3 = p2.sum()\n",
        "    return p2 / p3\n",
        "    \n",
        "  def forward(self, x):\n",
        "    if self.bypass:\n",
        "      bypass_pi = self.bypass_pi(self.bypass_a)\n",
        "      self.by_pi = bypass_pi \n",
        "      random_logistic = torch.tensor(logistic(0,1))\n",
        "      gamma = 1 / (1 + torch.exp((-(torch.log(bypass_pi + EPS_FACTOR)-torch.log(1-bypass_pi + EPS_FACTOR) + random_logistic)/self.tau)))\n",
        "    \n",
        "    lay_mu = self.layer_mu\n",
        "    lay_sig = self.sigma(self.layer_rho)\n",
        "    lay_pi = self.layer_pi(lay_mu, lay_sig)\n",
        "    self.lay_pi = lay_pi\n",
        "    s_p = self.concrete_cat_sample(lay_pi)\n",
        "    s_p = torch.unsqueeze(s_p,0)\n",
        "    soft_mask = torch.mm(self.U, s_p.t()).t()\n",
        "    \n",
        "    w_mu = self.weight_mu\n",
        "    w_sigma = self.sigma(self.weight_rho)\n",
        "    weight = w_mu + w_sigma * torch.Tensor(w_mu.shape).normal_(0,1)\n",
        "    \n",
        "    b_mu = self.bias_mu\n",
        "    b_sigma = self.sigma(self.bias_rho)\n",
        "    bias = b_mu + b_sigma * torch.Tensor(b_mu.shape).normal_(0,1)\n",
        "    \n",
        "    ## I don't have any bias term for the layer and bypass, they only affect the regular neurons\n",
        "    self.layer_VI = self.calc_layer_VI(s_p, lay_pi)\n",
        "    self.weight_VI = self.calc_normal_KL(w_mu, w_sigma)\n",
        "    self.bias_VI = self.calc_normal_KL(b_mu, b_sigma)\n",
        "    if self.bypass:\n",
        "      self.bypass_VI = self.calc_bypass_VI(gamma, bypass_pi).item()\n",
        "    \n",
        "    if self.bypass:\n",
        "      \n",
        "      return (1-gamma)*F.linear(x, torch.t(weight), bias) * soft_mask + gamma * x\n",
        "    else:\n",
        "      \n",
        "      return F.linear(x, torch.t(weight), bias) * soft_mask\n",
        "    \n",
        "    \n",
        "    \n",
        "    \n",
        "    \n",
        "from torch import autograd\n",
        "\n",
        "import numpy as np\n",
        "x = np.arange(-2,8,0.01)\n",
        "\n",
        "y = np.sin(x) + np.random.normal(0,0.1,x.shape)\n",
        "x = (x - np.mean(x)) / np.std(x)\n",
        "import matplotlib.pyplot as plt\n",
        "x_t = torch.from_numpy(x).view(-1,1).float()\n",
        "y_t = torch.from_numpy(y).view(-1,1).float()\n",
        "\n",
        "\n",
        "class Network(nn.Module):\n",
        "  \n",
        "  def __init__(self):\n",
        "    super().__init__()\n",
        "    self.fc1 = BayesLinear(1, 50, False)\n",
        "    self.fc2 = BayesLinear(50, 50, True)\n",
        "    self.fc3 = BayesLinear(50, 50, True)\n",
        "    self.fc4 = BayesLinear(50, 50, True)\n",
        "    self.fc5 = BayesLinear(50, 50, True)\n",
        "    self.fc6 = BayesLinear(50, 50, True)\n",
        "    self.fc7 = BayesLinear(50, 1, False)\n",
        "    self.loss_fn = nn.MSELoss(reduction = 'sum')\n",
        "    self.layer_list = [self.fc1, self.fc2, self.fc3, self.fc4, self.fc5, self.fc6, self.fc7]\n",
        "    \n",
        "  def calc_VI(self):\n",
        "      \n",
        "    VI_tot = 0\n",
        "    for layer in self.layer_list:\n",
        "        VI_tot = VI_tot + layer.weight_VI + layer.bias_VI + layer.layer_VI\n",
        "        if layer.bypass:\n",
        "            VI_tot = VI_tot + layer.bypass_VI\n",
        "    \n",
        "    return VI_tot\n",
        "  \n",
        "  def calc_loss(self, x, y, num_train_samples = 1):\n",
        "    \n",
        "    loss1_store = torch.zeros((1, num_train_samples))\n",
        "    loss2_store = torch.zeros((1, num_train_samples))\n",
        "    \n",
        "    for rrr in range(num_train_samples):\n",
        "\n",
        "      out = self.forward(x)\n",
        "      loss = self.loss_fn(out, y)\n",
        "      loss1_store[0, rrr] = loss\n",
        "      loss2_store[0, rrr] = self.calc_VI()\n",
        "      \n",
        "      final_loss1 = torch.mean(loss1_store)\n",
        "      final_loss2 = torch.mean(loss2_store)\n",
        "    return final_loss1, final_loss2\n",
        "  \n",
        "  \n",
        "  def forward(self, x):\n",
        "      \n",
        "    for layer in self.layer_list[:-1]:\n",
        "        x = F.relu(layer(x))\n",
        "    x = self.layer_list[-1](x)\n",
        "\n",
        "    return x\n",
        "\n",
        "    \n",
        "import torch.optim as optim\n",
        "my_net = Network()\n",
        "\n",
        "\n",
        "\n",
        "max_epoch = 2000\n",
        "opt = optim.Adam(my_net.parameters(), lr = 0.01)\n",
        "\n",
        "weight_step = 0.0\n",
        "weight_factor = torch.exp(torch.tensor(weight_step))\n",
        "\n",
        "#with autograd.detect_anomaly():\n",
        "for epoch in range(max_epoch):\n",
        "      \n",
        "      \n",
        "      my_net.zero_grad()\n",
        "      loss1, loss2 = my_net.calc_loss(x_t, y_t)\n",
        "      total_loss = loss1 + loss2 * weight_factor\n",
        "      total_loss.backward()\n",
        "      opt.step()\n",
        "      if epoch % (max_epoch // 10) == 0:\n",
        "        print('Epoch {} Likelihood Loss {:.2f} Prior Loss {:.2f}'.format(epoch, loss1, loss2))      \n",
        "        weight_step = weight_step + 0.5\n",
        "        weight_factor = torch.exp(-torch.tensor(weight_step))\n",
        "\n"
      ],
      "execution_count": 261,
      "outputs": [
        {
          "output_type": "stream",
          "text": [
            "Epoch 0 Likelihood Loss 537.83 Prior Loss 65219.60\n",
            "Epoch 200 Likelihood Loss 32.42 Prior Loss 39860.27\n",
            "Epoch 400 Likelihood Loss 42.89 Prior Loss 25116.74\n",
            "Epoch 600 Likelihood Loss 206.56 Prior Loss 17703.24\n",
            "Epoch 800 Likelihood Loss 69.91 Prior Loss 13937.93\n",
            "Epoch 1000 Likelihood Loss 92.01 Prior Loss 12253.07\n",
            "Epoch 1200 Likelihood Loss 75.99 Prior Loss 11204.64\n",
            "Epoch 1400 Likelihood Loss 49.64 Prior Loss 10511.56\n",
            "Epoch 1600 Likelihood Loss 34.14 Prior Loss 10404.54\n",
            "Epoch 1800 Likelihood Loss 18.65 Prior Loss 10044.83\n"
          ],
          "name": "stdout"
        }
      ]
    },
    {
      "metadata": {
        "id": "0IcZiAf3VEy-",
        "colab_type": "code",
        "colab": {
          "base_uri": "https://localhost:8080/",
          "height": 286
        },
        "outputId": "552a046c-41a0-4305-b3ad-17483cac25de"
      },
      "cell_type": "code",
      "source": [
        "\n",
        "plt.plot(x,y)\n",
        "left_plot_lim = -5\n",
        "right_plot_lim = 5\n",
        "x_plot = np.arange(left_plot_lim, right_plot_lim,0.001)\n",
        "x_plot_n = torch.from_numpy(x_plot).float().view(-1,1)\n",
        "\n",
        "SAMPLES = 15\n",
        "out_plot_store = torch.zeros((x_plot_n.shape[0], SAMPLES))\n",
        "for iii in range(SAMPLES):\n",
        "  \n",
        "  out_plot = my_net(x_plot_n)\n",
        "  out_plot_store[:,iii] = out_plot[:,0]\n",
        "\n",
        "  \n",
        "sorted_val = torch.sort(out_plot_store)\n",
        "upper_ind = int(0.8*SAMPLES)\n",
        "lower_ind = int(0.2*SAMPLES)\n",
        "\n",
        "q80 = sorted_val[0][:, upper_ind].detach().numpy()\n",
        "q20 = sorted_val[0][:, lower_ind].detach().numpy()\n",
        "  \n",
        "max_plot = torch.max(out_plot_store, 1)\n",
        "min_plot = torch.min(out_plot_store, 1)\n",
        "mean_plot = torch.mean(out_plot_store, 1)\n",
        "lb = min_plot[0].detach().numpy()\n",
        "ub = max_plot[0].detach().numpy()\n",
        "\n",
        "plt.plot(x_plot, mean_plot.detach().numpy())\n",
        "plt.fill_between(x_plot, lb, ub, facecolor='orange', alpha=0.5)\n",
        "plt.fill_between(x_plot, q20, q80, facecolor='blue', alpha=0.5)\n",
        "plt.axis([left_plot_lim, right_plot_lim, -4, 4])               \n"
      ],
      "execution_count": 264,
      "outputs": [
        {
          "output_type": "execute_result",
          "data": {
            "text/plain": [
              "[-5, 5, -4, 4]"
            ]
          },
          "metadata": {
            "tags": []
          },
          "execution_count": 264
        },
        {
          "output_type": "display_data",
          "data": {
            "image/png": "[encoded data removed]",
            "text/plain": [
              "<Figure size 432x288 with 1 Axes>"
            ]
          },
          "metadata": {
            "tags": []
          }
        }
      ]
    },
    {
      "metadata": {
        "id": "kbO7cAHYYY7W",
        "colab_type": "code",
        "colab": {
          "base_uri": "https://localhost:8080/",
          "height": 332
        },
        "outputId": "22d7494e-ccf1-4f04-9fb4-de5f7b821936"
      },
      "cell_type": "code",
      "source": [
        "import numpy as np\n",
        "lay_pi_val = my_net.fc7.lay_pi.detach().numpy()\n",
        "lay_plot = np.arange(1,lay_pi_val.shape[0] + 1)\n",
        "lay_plot.shape\n",
        "plt.plot(lay_plot, lay_pi_val)\n",
        "#plt.violinplot(lay_pi_val)\n",
        "plt.title(my_net.fc6.by_pi.detach().numpy())"
      ],
      "execution_count": 260,
      "outputs": [
        {
          "output_type": "stream",
          "text": [
            "/usr/local/lib/python3.6/dist-packages/matplotlib/text.py:1191: FutureWarning: elementwise comparison failed; returning scalar instead, but in the future will perform elementwise comparison\n",
            "  if s != self._text:\n"
          ],
          "name": "stderr"
        },
        {
          "output_type": "execute_result",
          "data": {
            "text/plain": [
              "Text(0.5, 1.0, '[0.06274667]')"
            ]
          },
          "metadata": {
            "tags": []
          },
          "execution_count": 260
        },
        {
          "output_type": "display_data",
          "data": {
            "image/png": "[encoded data removed]",
            "text/plain": [
              "<Figure size 432x288 with 1 Axes>"
            ]
          },
          "metadata": {
            "tags": []
          }
        }
      ]
    },
    {
      "metadata": {
        "id": "yH7MCwSwbVV9",
        "colab_type": "code",
        "colab": {
          "base_uri": "https://localhost:8080/",
          "height": 337
        },
        "outputId": "77241665-f98d-4e19-b05f-366d3c2d3615"
      },
      "cell_type": "code",
      "source": [
        "data = [np.array([0.1,0.1,0.1,0.5,0.5,0.5,0.5,0.5,0.5,0.5,0.5,0.5,0.5,0.5,0.67,0.78,0.99])]\n",
        "data\n",
        "plt.violinplot(data)"
      ],
      "execution_count": 89,
      "outputs": [
        {
          "output_type": "execute_result",
          "data": {
            "text/plain": [
              "{'bodies': [<matplotlib.collections.PolyCollection at 0x7f666b03a780>],\n",
              " 'cbars': <matplotlib.collections.LineCollection at 0x7f666b03ae10>,\n",
              " 'cmaxes': <matplotlib.collections.LineCollection at 0x7f666b03a668>,\n",
              " 'cmins': <matplotlib.collections.LineCollection at 0x7f666b03aba8>}"
            ]
          },
          "metadata": {
            "tags": []
          },
          "execution_count": 89
        },
        {
          "output_type": "display_data",
          "data": {
            "image/png": "[encoded data removed]",
            "text/plain": [
              "<Figure size 432x288 with 1 Axes>"
            ]
          },
          "metadata": {
            "tags": []
          }
        }
      ]
    },
    {
      "metadata": {
        "id": "XKsdx8JkwiVA",
        "colab_type": "code",
        "colab": {
          "base_uri": "https://localhost:8080/",
          "height": 85
        },
        "outputId": "425fb3b0-51b5-4541-a4e6-8a29845d5dca"
      },
      "cell_type": "code",
      "source": [
        "a = torch.tensor([[1,6,2,11,5,6,7,8,9,10],[8,7,23,1,66,5,7,2,8,0]])\n",
        "b = torch.sort(a)\n",
        "print(b)\n",
        "b[0][:,8]"
      ],
      "execution_count": 229,
      "outputs": [
        {
          "output_type": "stream",
          "text": [
            "(tensor([[ 1,  2,  5,  6,  6,  7,  8,  9, 10, 11],\n",
            "        [ 0,  1,  2,  5,  7,  7,  8,  8, 23, 66]]), tensor([[0, 2, 4, 1, 5, 6, 7, 8, 9, 3],\n",
            "        [9, 3, 7, 5, 1, 6, 0, 8, 2, 4]]))\n"
          ],
          "name": "stdout"
        },
        {
          "output_type": "execute_result",
          "data": {
            "text/plain": [
              "tensor([10, 23])"
            ]
          },
          "metadata": {
            "tags": []
          },
          "execution_count": 229
        }
      ]
    }
  ]
}